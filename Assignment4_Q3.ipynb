{
  "nbformat": 4,
  "nbformat_minor": 0,
  "metadata": {
    "colab": {
      "provenance": [],
      "include_colab_link": true
    },
    "kernelspec": {
      "name": "python3",
      "display_name": "Python 3"
    },
    "language_info": {
      "name": "python"
    }
  },
  "cells": [
    {
      "cell_type": "markdown",
      "metadata": {
        "id": "view-in-github",
        "colab_type": "text"
      },
      "source": [
        "<a href=\"https://colab.research.google.com/github/rrahman1215/Assignment-4/blob/main/Assignment4_Q3.ipynb\" target=\"_parent\"><img src=\"https://colab.research.google.com/assets/colab-badge.svg\" alt=\"Open In Colab\"/></a>"
      ]
    },
    {
      "cell_type": "code",
      "metadata": {
        "id": "_S-5rqtgeq2e"
      },
      "source": [
        "import numpy as np\n",
        "import pandas as pd\n",
        "import matplotlib.pyplot as plt\n",
        "\n",
        "############################## Extract data from the excel file #########################################\n",
        "\n",
        "# training data\n",
        "df = pd.read_excel ('/content/drive/MyDrive/Asssignment4_Data.xlsx', sheet_name='Train', usecols=['House ID','Local Price','Bathrooms',\t'Land Area',\t'Living area',\t'# Garages',\t'# Rooms',\t'# Bedrooms',\t'Age of home',\t'Construction type'])\n",
        "np_df = df.to_numpy()\n",
        "X_train = np_df[:,1:9]\n",
        "Y_train = np_df[:,-1]\n",
        "\n",
        "# test data\n",
        "df = pd.read_excel ('/content/drive/MyDrive/Asssignment4_Data.xlsx', sheet_name='Test', usecols=['House ID','Local Price','Bathrooms',\t'Land Area',\t'Living area',\t'# Garages',\t'# Rooms',\t'# Bedrooms',\t'Age of home',\t'Construction type'])\n",
        "np_df = df.to_numpy()\n",
        "X_test = np_df[:,1:9]\n",
        "Y_test = np_df[:,-1]\n"
      ],
      "execution_count": 2,
      "outputs": []
    },
    {
      "cell_type": "code",
      "source": [
        "k = int(input (\"Please enter number of neighbors: \"))\n",
        "print('K =',k)\n",
        "class_predict = []\n",
        "right_class = 0\n",
        "wrong_class = 0\n",
        "for n in range(5):\n",
        "    apartment = 0\n",
        "    house = 0\n",
        "    condo = 0\n",
        "    for i in range(8):\n",
        "        test_point = X_test[n,i]\n",
        "        distance = []\n",
        "        for d in range(20):\n",
        "            #distance = np.append(distance, np.absolute(test_point-X_train[d,i]))\n",
        "            distance = np.append(distance, np.linalg.norm(test_point-X_train[d,i]))\n",
        "            # print(X_train[d,i])\n",
        "        b = np.argsort(distance)\n",
        "        #idx = np.argpartition(distance, k)\n",
        "        # print(idx)\n",
        "\n",
        "        #out = Y_train[idx[0:k]]\n",
        "        out = Y_train[b[0:k]]\n",
        "        # print(out)\n",
        "        for m in range(k):        \n",
        "            if out[m]=='Apartment':\n",
        "                apartment = apartment + 1\n",
        "            if out[m]=='House':\n",
        "                house = house + 1\n",
        "            if out[m]=='Condo':\n",
        "                condo = condo + 1\n",
        "\n",
        "    print('Test set row',n+1,', Votes for: Apartment',apartment,'House',house, 'and Condo', condo)\n",
        "    # print(house)\n",
        "    # print(condo)\n",
        "    if (apartment>=house) & (apartment>condo):\n",
        "      class_predict = np.append(class_predict, 'Apartment')\n",
        "    if (house>apartment) & (house>=condo):\n",
        "      class_predict = np.append(class_predict, 'House')\n",
        "    if (condo>=apartment) & (condo>house):\n",
        "      class_predict = np.append(class_predict, 'Condo')\n",
        "    # print(class_predict)\n",
        "    if(Y_test[n]==class_predict[n]):\n",
        "        right_class = right_class + 1\n",
        "    else:\n",
        "        wrong_class = wrong_class + 1\n",
        "\n",
        "print('Accuracy:',(right_class/5))\n",
        "print(class_predict)\n",
        "print('\\n')"
      ],
      "metadata": {
        "colab": {
          "base_uri": "https://localhost:8080/"
        },
        "id": "Wkwo2OYO__0Y",
        "outputId": "8901bf4e-88d6-4253-c5e7-55219f0101a9"
      },
      "execution_count": 5,
      "outputs": [
        {
          "output_type": "stream",
          "name": "stdout",
          "text": [
            "Please enter number of neighbors: 3\n",
            "K = 3\n",
            "Test set row 1 , Votes for: Apartment 9 House 7 and Condo 8\n",
            "Test set row 2 , Votes for: Apartment 12 House 8 and Condo 4\n",
            "Test set row 3 , Votes for: Apartment 11 House 8 and Condo 5\n",
            "Test set row 4 , Votes for: Apartment 11 House 9 and Condo 4\n",
            "Test set row 5 , Votes for: Apartment 12 House 8 and Condo 4\n",
            "Accuracy: 0.6\n",
            "['Apartment' 'Apartment' 'Apartment' 'Apartment' 'Apartment']\n",
            "\n",
            "\n"
          ]
        }
      ]
    },
    {
      "cell_type": "code",
      "metadata": {
        "colab": {
          "base_uri": "https://localhost:8080/"
        },
        "id": "ZQ8aOQ7jgBcG",
        "outputId": "0a05ed61-be49-4445-8667-81b56942b962"
      },
      "source": [
        "# Accuracy determination for k values ranging from 1 to 5\n",
        "\n",
        "accuracy_array = []\n",
        "k_array = []\n",
        "for k in range(1,6):\n",
        "  print('K =',k)\n",
        "  class_predict = []\n",
        "  right_class = 0\n",
        "  wrong_class = 0\n",
        "  for n in range(5):\n",
        "    apartment = 0\n",
        "    house = 0\n",
        "    condo = 0\n",
        "    for i in range(8):\n",
        "        test_point = X_test[n,i]\n",
        "        distance = []\n",
        "        for d in range(20):\n",
        "            #distance = np.append(distance, np.absolute(test_point-X_train[d,i]))\n",
        "            distance = np.append(distance, np.linalg.norm(test_point-X_train[d,i]))\n",
        "            # print(X_train[d,i])\n",
        "        b = np.argsort(distance)\n",
        "        #idx = np.argpartition(distance, k)\n",
        "        # print(idx)\n",
        "\n",
        "        #out = Y_train[idx[0:k]]\n",
        "        out = Y_train[b[0:k]]\n",
        "        # print(out)\n",
        "        for m in range(k):        \n",
        "            if out[m]=='Apartment':\n",
        "                apartment = apartment + 1\n",
        "            if out[m]=='House':\n",
        "                house = house + 1\n",
        "            if out[m]=='Condo':\n",
        "                condo = condo + 1\n",
        "\n",
        "    print('Test set row',n+1,', Votes for: Apartment',apartment,'House',house, 'and Condo', condo)\n",
        "    # print(house)\n",
        "    # print(condo)\n",
        "    if (apartment>=house) & (apartment>condo):\n",
        "      class_predict = np.append(class_predict, 'Apartment')\n",
        "    if (house>apartment) & (house>=condo):\n",
        "      class_predict = np.append(class_predict, 'House')\n",
        "    if (condo>=apartment) & (condo>house):\n",
        "      class_predict = np.append(class_predict, 'Condo')\n",
        "    # print(class_predict)\n",
        "    if(Y_test[n]==class_predict[n]):\n",
        "        right_class = right_class + 1\n",
        "    else:\n",
        "        wrong_class = wrong_class + 1\n",
        "\n",
        "  accuracy_array = np.append(accuracy_array,(right_class/5))\n",
        "  k_array = np.append(k_array,k)\n",
        "  print('Accuracy:',(right_class/5))\n",
        "  print(class_predict)\n",
        "  print('\\n')\n"
      ],
      "execution_count": 6,
      "outputs": [
        {
          "output_type": "stream",
          "name": "stdout",
          "text": [
            "K = 1\n",
            "Test set row 1 , Votes for: Apartment 4 House 1 and Condo 3\n",
            "Test set row 2 , Votes for: Apartment 6 House 2 and Condo 0\n",
            "Test set row 3 , Votes for: Apartment 7 House 1 and Condo 0\n",
            "Test set row 4 , Votes for: Apartment 5 House 2 and Condo 1\n",
            "Test set row 5 , Votes for: Apartment 4 House 2 and Condo 2\n",
            "Accuracy: 0.6\n",
            "['Apartment' 'Apartment' 'Apartment' 'Apartment' 'Apartment']\n",
            "\n",
            "\n",
            "K = 2\n",
            "Test set row 1 , Votes for: Apartment 7 House 5 and Condo 4\n",
            "Test set row 2 , Votes for: Apartment 9 House 6 and Condo 1\n",
            "Test set row 3 , Votes for: Apartment 7 House 6 and Condo 3\n",
            "Test set row 4 , Votes for: Apartment 8 House 6 and Condo 2\n",
            "Test set row 5 , Votes for: Apartment 7 House 7 and Condo 2\n",
            "Accuracy: 0.6\n",
            "['Apartment' 'Apartment' 'Apartment' 'Apartment' 'Apartment']\n",
            "\n",
            "\n",
            "K = 3\n",
            "Test set row 1 , Votes for: Apartment 9 House 7 and Condo 8\n",
            "Test set row 2 , Votes for: Apartment 12 House 8 and Condo 4\n",
            "Test set row 3 , Votes for: Apartment 11 House 8 and Condo 5\n",
            "Test set row 4 , Votes for: Apartment 11 House 9 and Condo 4\n",
            "Test set row 5 , Votes for: Apartment 12 House 8 and Condo 4\n",
            "Accuracy: 0.6\n",
            "['Apartment' 'Apartment' 'Apartment' 'Apartment' 'Apartment']\n",
            "\n",
            "\n",
            "K = 4\n",
            "Test set row 1 , Votes for: Apartment 13 House 9 and Condo 10\n",
            "Test set row 2 , Votes for: Apartment 15 House 11 and Condo 6\n",
            "Test set row 3 , Votes for: Apartment 14 House 10 and Condo 8\n",
            "Test set row 4 , Votes for: Apartment 12 House 13 and Condo 7\n",
            "Test set row 5 , Votes for: Apartment 14 House 9 and Condo 9\n",
            "Accuracy: 0.4\n",
            "['Apartment' 'Apartment' 'Apartment' 'House' 'Apartment']\n",
            "\n",
            "\n",
            "K = 5\n",
            "Test set row 1 , Votes for: Apartment 15 House 12 and Condo 13\n",
            "Test set row 2 , Votes for: Apartment 18 House 15 and Condo 7\n",
            "Test set row 3 , Votes for: Apartment 15 House 17 and Condo 8\n",
            "Test set row 4 , Votes for: Apartment 14 House 19 and Condo 7\n",
            "Test set row 5 , Votes for: Apartment 17 House 13 and Condo 10\n",
            "Accuracy: 0.6\n",
            "['Apartment' 'Apartment' 'House' 'House' 'Apartment']\n",
            "\n",
            "\n"
          ]
        }
      ]
    },
    {
      "cell_type": "code",
      "metadata": {
        "colab": {
          "base_uri": "https://localhost:8080/",
          "height": 312
        },
        "id": "YuMT7o3zvCQR",
        "outputId": "f75be827-f4af-4e8d-a084-361e61dd8ec1"
      },
      "source": [
        "plt.figure\n",
        "plt.plot(k_array,accuracy_array)\n",
        "plt.title('Accuracy Vs k')\n",
        "plt.xlabel('k')\n",
        "plt.ylabel('Accuracy')"
      ],
      "execution_count": 7,
      "outputs": [
        {
          "output_type": "execute_result",
          "data": {
            "text/plain": [
              "Text(0, 0.5, 'Accuracy')"
            ]
          },
          "metadata": {},
          "execution_count": 7
        },
        {
          "output_type": "display_data",
          "data": {
            "text/plain": [
              "<Figure size 432x288 with 1 Axes>"
            ],
            "image/png": "[encoded data removed]"
          },
          "metadata": {
            "needs_background": "light"
          }
        }
      ]
    }
  ]
}