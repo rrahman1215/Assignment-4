{
  "nbformat": 4,
  "nbformat_minor": 0,
  "metadata": {
    "colab": {
      "provenance": []
    },
    "kernelspec": {
      "name": "python3",
      "display_name": "Python 3"
    },
    "language_info": {
      "name": "python"
    }
  },
  "cells": [
    {
      "cell_type": "code",
      "execution_count": 3,
      "metadata": {
        "colab": {
          "base_uri": "https://localhost:8080/"
        },
        "id": "Vpyihu9yaYFP",
        "outputId": "474c93b2-8ea5-4f7e-85db-79af41a7c86c"
      },
      "outputs": [
        {
          "output_type": "stream",
          "name": "stdout",
          "text": [
            "Results for house ID 24:\n",
            "Probability of Apartment:  1.9389181719507603e-06\n",
            "Probability of House:  2.2305995775315273e-05\n",
            "Probability of Condo:  1.7050080080766167e-06\n",
            "Class: HOUSE\n"
          ]
        }
      ],
      "source": [
        "#House ID 24\n",
        "Apartment_Prob = 0.104 * 0.655 * 0.12 * 0.554 * 0.545 * 0.242 * 0.371 * 0.025 *(7/20)\n",
        "House_Prob = 0.59 * 0.161 * 0.177 * 0.889 * 0.474 * 0.566 * 0.691 * 0.023 *(7/20)\n",
        "Condo_Prob = 0.083 * 0.634 * 0.151 * 0.43 * 0.628 * 0.218 * 0.45 * 0.027 *(6/20)\n",
        "print('Results for house ID 24:')\n",
        "print('Probability of Apartment: ',Apartment_Prob)\n",
        "print('Probability of House: ',House_Prob)\n",
        "print('Probability of Condo: ',Condo_Prob)\n",
        "Max_Prob = max(Apartment_Prob,House_Prob,Condo_Prob)\n",
        "if (Max_Prob==Apartment_Prob):\n",
        "    print('Class: APARTMENT')\n",
        "if (Max_Prob==House_Prob):\n",
        "    print('Class: HOUSE')\n",
        "if (Max_Prob==Condo_Prob):\n",
        "    print('Class: CONDO')\n",
        "    "
      ]
    },
    {
      "cell_type": "code",
      "execution_count": 5,
      "metadata": {
        "colab": {
          "base_uri": "https://localhost:8080/"
        },
        "id": "bZI-fG7wae8C",
        "outputId": "89a89299-15db-4d89-b850-dffc2413d281"
      },
      "outputs": [
        {
          "output_type": "stream",
          "name": "stdout",
          "text": [
            "Results for house ID 25:\n",
            "Probability of Apartment:  4.793162384239558e-07\n",
            "Probability of House:  4.43491455888558e-13\n",
            "Probability of Condo:  2.7006475427063995e-07\n",
            "Class: APARTMENT\n"
          ]
        }
      ],
      "source": [
        "#House ID 25\n",
        "Apartment_Prob = 0.106 * 0.655 * 0.079 * 0.526 * 0.303 * 0.207 * 0.344 * 0.022 *(7/20)\n",
        "House_Prob = 2.11e-5 * 0.161 * 0.095 * 0.366 * 0.258 * 0.015 * 0.154 * 0.018 *(7/20)\n",
        "Condo_Prob = 0.085 * 0.634 * 0.074 * 0.42 * 0.335 * 0.191 * 0.35 * 0.024 *(6/20)\n",
        "print('Results for house ID 25:')\n",
        "print('Probability of Apartment: ',Apartment_Prob)\n",
        "print('Probability of House: ',House_Prob)\n",
        "print('Probability of Condo: ',Condo_Prob)\n",
        "Max_Prob = max(Apartment_Prob,House_Prob,Condo_Prob)\n",
        "if (Max_Prob==Apartment_Prob):\n",
        "    print('Class: APARTMENT')\n",
        "if (Max_Prob==House_Prob):\n",
        "    print('Class: HOUSE')\n",
        "if (Max_Prob==Condo_Prob):\n",
        "    print('Class: CONDO')"
      ]
    },
    {
      "cell_type": "code",
      "execution_count": 9,
      "metadata": {
        "colab": {
          "base_uri": "https://localhost:8080/"
        },
        "id": "98TtpYPUafFH",
        "outputId": "ad9a084c-e137-4769-b43b-6b59839ba8d3"
      },
      "outputs": [
        {
          "output_type": "stream",
          "name": "stdout",
          "text": [
            "Results for house ID 26:\n",
            "Probability of Apartment:  4.538813386026905e-08\n",
            "Probability of House:  1.8070931962597316e-09\n",
            "Probability of Condo:  2.7040041219456005e-08\n",
            "Class: APARTMENT\n"
          ]
        }
      ],
      "source": [
        "#House ID 26\n",
        "Apartment_Prob = 0.108 * 0.62 * 0.103 * 0.567 * 0.303 * 0.295 * 0.371 * 0.001 *(7/20)\n",
        "House_Prob = 1.15e-4 * 1.967 * 0.147 * 1.631 * 0.258 * 0.267 * 0.691 * 0.002 *(7/20)\n",
        "Condo_Prob = 0.085 * 0.566 * 0.116 * 0.432 * 0.335 * 0.248 * 0.45 * 0.001 *(6/20)\n",
        "print('Results for house ID 26:')\n",
        "print('Probability of Apartment: ',Apartment_Prob)\n",
        "print('Probability of House: ',House_Prob)\n",
        "print('Probability of Condo: ',Condo_Prob)\n",
        "Max_Prob = max(Apartment_Prob,House_Prob,Condo_Prob)\n",
        "if (Max_Prob==Apartment_Prob):\n",
        "    print('Class: APARTMENT')\n",
        "if (Max_Prob==House_Prob):\n",
        "    print('Class: HOUSE')\n",
        "if (Max_Prob==Condo_Prob):\n",
        "    print('Class: CONDO')"
      ]
    },
    {
      "cell_type": "code",
      "execution_count": 7,
      "metadata": {
        "colab": {
          "base_uri": "https://localhost:8080/"
        },
        "id": "X_ePj5UJafL_",
        "outputId": "5ce01ebd-f5a9-4043-9630-02e542c1766f"
      },
      "outputs": [
        {
          "output_type": "stream",
          "name": "stdout",
          "text": [
            "Results for house ID 27:\n",
            "Probability of Apartment:  1.1577186924225047e-06\n",
            "Probability of House:  9.82506164736096e-16\n",
            "Probability of Condo:  1.0340305803977789e-06\n",
            "Class: APARTMENT\n"
          ]
        }
      ],
      "source": [
        "#House ID 27\n",
        "Apartment_Prob = 0.097 * 0.655 * 0.114 * 0.509 * 0.525 * 0.207 * 0.344 * 0.024 *(7/20)\n",
        "House_Prob = 1.59e-8 * 0.161 * 0.169 * 0.224 * 0.418 * 0.015 * 0.154 * 0.03 *(7/20)\n",
        "Condo_Prob = 0.081 * 0.634 * 0.138 * 0.413 * 0.734 * 0.191 * 0.35 * 0.024 *(6/20)\n",
        "print('Results for house ID 27:')\n",
        "print('Probability of Apartment: ',Apartment_Prob)\n",
        "print('Probability of House: ',House_Prob)\n",
        "print('Probability of Condo: ',Condo_Prob)\n",
        "Max_Prob = max(Apartment_Prob,House_Prob,Condo_Prob)\n",
        "if (Max_Prob==Apartment_Prob):\n",
        "    print('Class: APARTMENT')\n",
        "if (Max_Prob==House_Prob):\n",
        "    print('Class: HOUSE')\n",
        "if (Max_Prob==Condo_Prob):\n",
        "    print('Class: CONDO')"
      ]
    },
    {
      "cell_type": "code",
      "execution_count": 8,
      "metadata": {
        "colab": {
          "base_uri": "https://localhost:8080/"
        },
        "id": "edB_DUy0afRo",
        "outputId": "3a664d86-e99f-468c-fd68-18fa94b1d731"
      },
      "outputs": [
        {
          "output_type": "stream",
          "name": "stdout",
          "text": [
            "Results for house ID 28:\n",
            "Probability of Apartment:  4.1211461150337135e-07\n",
            "Probability of House:  1.916641302846243e-31\n",
            "Probability of Condo:  4.2483171700747804e-07\n",
            "Class: CONDO\n"
          ]
        }
      ],
      "source": [
        "#House ID 28\n",
        "Apartment_Prob = 0.048 * 0.655 * 0.116 * 0.516 * 0.303 * 0.242 * 0.371 * 0.023 *(7/20)\n",
        "House_Prob = 6.62e-27 * 0.161 * 0.136 * 1.248 * 0.258 * 0.566 * 0.691 * 0.03 *(7/20)\n",
        "Condo_Prob = 0.053 * 0.634 * 0.145 * 0.402 * 0.335 * 0.218 * 0.45 * 0.022 *(6/20)\n",
        "print('Results for house ID 28:')\n",
        "print('Probability of Apartment: ',Apartment_Prob)\n",
        "print('Probability of House: ',House_Prob)\n",
        "print('Probability of Condo: ',Condo_Prob)\n",
        "Max_Prob = max(Apartment_Prob,House_Prob,Condo_Prob)\n",
        "if (Max_Prob==Apartment_Prob):\n",
        "    print('Class: APARTMENT')\n",
        "if (Max_Prob==House_Prob):\n",
        "    print('Class: HOUSE')\n",
        "if (Max_Prob==Condo_Prob):\n",
        "    print('Class: CONDO')\n"
      ]
    }
  ]
}