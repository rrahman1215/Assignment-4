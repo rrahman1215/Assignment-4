{
  "nbformat": 4,
  "nbformat_minor": 0,
  "metadata": {
    "colab": {
      "provenance": [],
      "include_colab_link": true
    },
    "kernelspec": {
      "name": "python3",
      "display_name": "Python 3"
    },
    "language_info": {
      "name": "python"
    }
  },
  "cells": [
    {
      "cell_type": "markdown",
      "metadata": {
        "id": "view-in-github",
        "colab_type": "text"
      },
      "source": [
        "<a href=\"https://colab.research.google.com/github/rrahman1215/Assignment-4/blob/main/Assignment4_Q2_.ipynb\" target=\"_parent\"><img src=\"https://colab.research.google.com/assets/colab-badge.svg\" alt=\"Open In Colab\"/></a>"
      ]
    },
    {
      "cell_type": "code",
      "metadata": {
        "id": "jZYpu6RZMIuQ",
        "colab": {
          "base_uri": "https://localhost:8080/"
        },
        "outputId": "cbb7d7bf-6bee-49c7-f245-46f12405d0e8"
      },
      "source": [
        "from sklearn import tree\n",
        "from sklearn.metrics import accuracy_score\n",
        "import pandas as pd\n",
        "import graphviz \n",
        "\n",
        "############################## Extract data from the excel file #########################################\n",
        "\n",
        "# training data\n",
        "df = pd.read_excel ('/content/drive/MyDrive/Asssignment4_Data.xlsx', sheet_name='Train', usecols=['House ID','Local Price','Bathrooms',\t'Land Area',\t'Living area',\t'# Garages',\t'# Rooms',\t'# Bedrooms',\t'Age of home',\t'Construction type'])\n",
        "np_df = df.to_numpy()\n",
        "X_train = np_df[:,1:9]\n",
        "Y_train = np_df[:,-1]\n",
        "\n",
        "# test data\n",
        "df = pd.read_excel ('/content/drive/MyDrive/Asssignment4_Data.xlsx', sheet_name='Test', usecols=['House ID','Local Price','Bathrooms',\t'Land Area',\t'Living area',\t'# Garages',\t'# Rooms',\t'# Bedrooms',\t'Age of home',\t'Construction type'])\n",
        "np_df = df.to_numpy()\n",
        "X_test = np_df[:,1:9]\n",
        "Y_test = np_df[:,-1]\n",
        "\n",
        "############################## Decision tree #########################################\n",
        "clf = tree.DecisionTreeClassifier()\n",
        "clf = clf.fit(X_train, Y_train)\n",
        "Y_predict = clf.predict(X_test)\n",
        "Y_predict_on_train_data = clf.predict(X_train)\n",
        "\n",
        "############# part 1 (a,b) ###############\n",
        "###########################################\n",
        "print('Predicted classification on test input:',Y_predict)\n",
        "prediction_accuracy_on_train_data = accuracy_score(Y_train, Y_predict_on_train_data)\n",
        "test_accuracy = accuracy_score(Y_test, Y_predict)\n",
        "print('Accuracy score on training set:',prediction_accuracy_on_train_data)\n",
        "print('Accuracy score on test set:',test_accuracy)\n",
        "\n",
        "print('Depth of the tree:',clf.tree_.max_depth)\n",
        "\n",
        "\n"
      ],
      "execution_count": 3,
      "outputs": [
        {
          "output_type": "stream",
          "name": "stdout",
          "text": [
            "Predicted classification on test input: ['Condo' 'Condo' 'Condo' 'Apartment' 'Apartment']\n",
            "Accuracy score on training set: 1.0\n",
            "Accuracy score on test set: 0.4\n",
            "Depth of the tree: 5\n"
          ]
        }
      ]
    },
    {
      "cell_type": "code",
      "metadata": {
        "colab": {
          "base_uri": "https://localhost:8080/"
        },
        "id": "PvenUlTWVaR3",
        "outputId": "ce8204be-65b7-4f13-ec28-78d02db6821f"
      },
      "source": [
        "############# part 2 ######################\n",
        "###########################################\n",
        "for i in range(1,9):\n",
        "    print('Allowed maximum depth:',i)\n",
        "    clf.max_depth = i\n",
        "    clf = clf.fit(X_train, Y_train)\n",
        "    Y_predict = clf.predict(X_test)\n",
        "    Y_predict_on_train_data = clf.predict(X_train)\n",
        "    print('Actual depth of the tree:',clf.tree_.max_depth)\n",
        "    print('Predicted classification on test input:',Y_predict)\n",
        "\n",
        "    prediction_accuracy_on_train_data = accuracy_score(Y_train, Y_predict_on_train_data)\n",
        "    test_accuracy = accuracy_score(Y_test, Y_predict)\n",
        "\n",
        "\n",
        "    print('Accuracy score on training set:',prediction_accuracy_on_train_data)\n",
        "    print('Accuracy score on test set:',test_accuracy)\n",
        "\n",
        "    print('\\n')"
      ],
      "execution_count": null,
      "outputs": [
        {
          "output_type": "stream",
          "name": "stdout",
          "text": [
            "Allowed maximum depth: 1\n",
            "Actual depth of the tree: 1\n",
            "Predicted classification on test input: ['Apartment' 'Apartment' 'House' 'House' 'House']\n",
            "Accuracy score on training set: 0.55\n",
            "Accuracy score on test set: 0.4\n",
            "\n",
            "\n",
            "Allowed maximum depth: 2\n",
            "Actual depth of the tree: 2\n",
            "Predicted classification on test input: ['Condo' 'Condo' 'House' 'Apartment' 'Apartment']\n",
            "Accuracy score on training set: 0.75\n",
            "Accuracy score on test set: 0.6\n",
            "\n",
            "\n",
            "Allowed maximum depth: 3\n",
            "Actual depth of the tree: 3\n",
            "Predicted classification on test input: ['Condo' 'Condo' 'Condo' 'Apartment' 'Apartment']\n",
            "Accuracy score on training set: 0.9\n",
            "Accuracy score on test set: 0.4\n",
            "\n",
            "\n",
            "Allowed maximum depth: 4\n",
            "Actual depth of the tree: 4\n",
            "Predicted classification on test input: ['Condo' 'Condo' 'Condo' 'Apartment' 'Apartment']\n",
            "Accuracy score on training set: 0.95\n",
            "Accuracy score on test set: 0.4\n",
            "\n",
            "\n",
            "Allowed maximum depth: 5\n",
            "Actual depth of the tree: 5\n",
            "Predicted classification on test input: ['Condo' 'Condo' 'Condo' 'Apartment' 'Apartment']\n",
            "Accuracy score on training set: 1.0\n",
            "Accuracy score on test set: 0.4\n",
            "\n",
            "\n",
            "Allowed maximum depth: 6\n",
            "Actual depth of the tree: 5\n",
            "Predicted classification on test input: ['Condo' 'Condo' 'Condo' 'Apartment' 'Apartment']\n",
            "Accuracy score on training set: 1.0\n",
            "Accuracy score on test set: 0.4\n",
            "\n",
            "\n",
            "Allowed maximum depth: 7\n",
            "Actual depth of the tree: 5\n",
            "Predicted classification on test input: ['Condo' 'Condo' 'Condo' 'Apartment' 'Apartment']\n",
            "Accuracy score on training set: 1.0\n",
            "Accuracy score on test set: 0.4\n",
            "\n",
            "\n"
          ]
        }
      ]
    },
    {
      "cell_type": "code",
      "source": [
        "from google.colab import drive\n",
        "drive.mount(\"/content/drive\", force_remount=True)"
      ],
      "metadata": {
        "colab": {
          "base_uri": "https://localhost:8080/"
        },
        "id": "GoMFQXYFal0g",
        "outputId": "945afb47-f8de-464e-9d76-2b23910118b5"
      },
      "execution_count": null,
      "outputs": [
        {
          "output_type": "stream",
          "name": "stdout",
          "text": [
            "Mounted at /content/drive\n"
          ]
        }
      ]
    },
    {
      "cell_type": "code",
      "metadata": {
        "id": "t7BrxEb0QuJu",
        "colab": {
          "base_uri": "https://localhost:8080/",
          "height": 544
        },
        "outputId": "168ce286-c03b-4b6b-896d-b19f5febff85"
      },
      "source": [
        "############# part 4 ######################\n",
        "###########################################\n",
        "\n",
        "clf.max_depth = 2\n",
        "clf = clf.fit(X_train, Y_train)\n",
        "\n",
        "Y_predict = clf.predict(X_test)\n",
        "Y_predict_on_train_data = clf.predict(X_train)\n",
        "# print(Y_predict)\n",
        "print('Actual depth of the tree:',clf.tree_.max_depth)\n",
        "print('Predicted classification on test input:',Y_predict)\n",
        "\n",
        "prediction_accuracy_on_train_data = accuracy_score(Y_train, Y_predict_on_train_data)\n",
        "test_accuracy = accuracy_score(Y_test, Y_predict)\n",
        "\n",
        "\n",
        "print('Accuracy score on training set:',prediction_accuracy_on_train_data)\n",
        "print('Accuracy score on test set:',test_accuracy)\n",
        "\n",
        "print('\\n')\n",
        "# tree.plot_tree(clf)\n",
        "\n",
        "import graphviz\n",
        "\n",
        "dot_data = tree.export_graphviz(clf, out_file=None, class_names=clf.classes_, filled=True)\n",
        "# Draw graph\n",
        "graph = graphviz.Source(dot_data, format=\"png\") \n",
        "graph"
      ],
      "execution_count": 4,
      "outputs": [
        {
          "output_type": "stream",
          "name": "stdout",
          "text": [
            "Actual depth of the tree: 2\n",
            "Predicted classification on test input: ['Condo' 'Condo' 'House' 'Apartment' 'Apartment']\n",
            "Accuracy score on training set: 0.75\n",
            "Accuracy score on test set: 0.6\n",
            "\n",
            "\n"
          ]
        },
        {
          "output_type": "execute_result",
          "data": {
            "text/plain": [
              "<graphviz.files.Source at 0x7f61a63527d0>"
            ],
            "image/svg+xml": "<?xml version=\"1.0\" encoding=\"UTF-8\" standalone=\"no\"?>\n<!DOCTYPE svg PUBLIC \"-//W3C//DTD SVG 1.1//EN\"\n \"http://www.w3.org/Graphics/SVG/1.1/DTD/svg11.dtd\">\n<!-- Generated by graphviz version 2.40.1 (20161225.0304)\n -->\n<!-- Title: Tree Pages: 1 -->\n<svg width=\"557pt\" height=\"314pt\"\n viewBox=\"0.00 0.00 557.00 314.00\" xmlns=\"http://www.w3.org/2000/svg\" xmlns:xlink=\"http://www.w3.org/1999/xlink\">\n<g id=\"graph0\" class=\"graph\" transform=\"scale(1 1) rotate(0) translate(4 310)\">\n<title>Tree</title>\n<polygon fill=\"#ffffff\" stroke=\"transparent\" points=\"-4,4 -4,-310 553,-310 553,4 -4,4\"/>\n<!-- 0 -->\n<g id=\"node1\" class=\"node\">\n<title>0</title>\n<polygon fill=\"#ffffff\" stroke=\"#000000\" points=\"340.5,-306 208.5,-306 208.5,-223 340.5,-223 340.5,-306\"/>\n<text text-anchor=\"middle\" x=\"274.5\" y=\"-290.8\" font-family=\"Helvetica,sans-Serif\" font-size=\"14.00\" fill=\"#000000\">X[7] &lt;= 36.0</text>\n<text text-anchor=\"middle\" x=\"274.5\" y=\"-275.8\" font-family=\"Helvetica,sans-Serif\" font-size=\"14.00\" fill=\"#000000\">gini = 0.665</text>\n<text text-anchor=\"middle\" x=\"274.5\" y=\"-260.8\" font-family=\"Helvetica,sans-Serif\" font-size=\"14.00\" fill=\"#000000\">samples = 20</text>\n<text text-anchor=\"middle\" x=\"274.5\" y=\"-245.8\" font-family=\"Helvetica,sans-Serif\" font-size=\"14.00\" fill=\"#000000\">value = [7, 6, 7]</text>\n<text text-anchor=\"middle\" x=\"274.5\" y=\"-230.8\" font-family=\"Helvetica,sans-Serif\" font-size=\"14.00\" fill=\"#000000\">class = Apartment</text>\n</g>\n<!-- 1 -->\n<g id=\"node2\" class=\"node\">\n<title>1</title>\n<polygon fill=\"#c09cf2\" stroke=\"#000000\" points=\"257,-187 142,-187 142,-104 257,-104 257,-187\"/>\n<text text-anchor=\"middle\" x=\"199.5\" y=\"-171.8\" font-family=\"Helvetica,sans-Serif\" font-size=\"14.00\" fill=\"#000000\">X[0] &lt;= 8.411</text>\n<text text-anchor=\"middle\" x=\"199.5\" y=\"-156.8\" font-family=\"Helvetica,sans-Serif\" font-size=\"14.00\" fill=\"#000000\">gini = 0.56</text>\n<text text-anchor=\"middle\" x=\"199.5\" y=\"-141.8\" font-family=\"Helvetica,sans-Serif\" font-size=\"14.00\" fill=\"#000000\">samples = 10</text>\n<text text-anchor=\"middle\" x=\"199.5\" y=\"-126.8\" font-family=\"Helvetica,sans-Serif\" font-size=\"14.00\" fill=\"#000000\">value = [2, 2, 6]</text>\n<text text-anchor=\"middle\" x=\"199.5\" y=\"-111.8\" font-family=\"Helvetica,sans-Serif\" font-size=\"14.00\" fill=\"#000000\">class = House</text>\n</g>\n<!-- 0&#45;&gt;1 -->\n<g id=\"edge1\" class=\"edge\">\n<title>0&#45;&gt;1</title>\n<path fill=\"none\" stroke=\"#000000\" d=\"M248.2686,-222.8796C242.7627,-214.1434 236.8994,-204.8404 231.2176,-195.8253\"/>\n<polygon fill=\"#000000\" stroke=\"#000000\" points=\"234.1363,-193.8919 225.8433,-187.2981 228.2143,-197.6242 234.1363,-193.8919\"/>\n<text text-anchor=\"middle\" x=\"220.3137\" y=\"-207.9789\" font-family=\"Helvetica,sans-Serif\" font-size=\"14.00\" fill=\"#000000\">True</text>\n</g>\n<!-- 4 -->\n<g id=\"node5\" class=\"node\">\n<title>4</title>\n<polygon fill=\"#fbeade\" stroke=\"#000000\" points=\"415.5,-187 283.5,-187 283.5,-104 415.5,-104 415.5,-187\"/>\n<text text-anchor=\"middle\" x=\"349.5\" y=\"-171.8\" font-family=\"Helvetica,sans-Serif\" font-size=\"14.00\" fill=\"#000000\">X[2] &lt;= 5.5</text>\n<text text-anchor=\"middle\" x=\"349.5\" y=\"-156.8\" font-family=\"Helvetica,sans-Serif\" font-size=\"14.00\" fill=\"#000000\">gini = 0.58</text>\n<text text-anchor=\"middle\" x=\"349.5\" y=\"-141.8\" font-family=\"Helvetica,sans-Serif\" font-size=\"14.00\" fill=\"#000000\">samples = 10</text>\n<text text-anchor=\"middle\" x=\"349.5\" y=\"-126.8\" font-family=\"Helvetica,sans-Serif\" font-size=\"14.00\" fill=\"#000000\">value = [5, 4, 1]</text>\n<text text-anchor=\"middle\" x=\"349.5\" y=\"-111.8\" font-family=\"Helvetica,sans-Serif\" font-size=\"14.00\" fill=\"#000000\">class = Apartment</text>\n</g>\n<!-- 0&#45;&gt;4 -->\n<g id=\"edge4\" class=\"edge\">\n<title>0&#45;&gt;4</title>\n<path fill=\"none\" stroke=\"#000000\" d=\"M300.7314,-222.8796C306.2373,-214.1434 312.1006,-204.8404 317.7824,-195.8253\"/>\n<polygon fill=\"#000000\" stroke=\"#000000\" points=\"320.7857,-197.6242 323.1567,-187.2981 314.8637,-193.8919 320.7857,-197.6242\"/>\n<text text-anchor=\"middle\" x=\"328.6863\" y=\"-207.9789\" font-family=\"Helvetica,sans-Serif\" font-size=\"14.00\" fill=\"#000000\">False</text>\n</g>\n<!-- 2 -->\n<g id=\"node3\" class=\"node\">\n<title>2</title>\n<polygon fill=\"#ab7bee\" stroke=\"#000000\" points=\"115,-68 0,-68 0,0 115,0 115,-68\"/>\n<text text-anchor=\"middle\" x=\"57.5\" y=\"-52.8\" font-family=\"Helvetica,sans-Serif\" font-size=\"14.00\" fill=\"#000000\">gini = 0.375</text>\n<text text-anchor=\"middle\" x=\"57.5\" y=\"-37.8\" font-family=\"Helvetica,sans-Serif\" font-size=\"14.00\" fill=\"#000000\">samples = 8</text>\n<text text-anchor=\"middle\" x=\"57.5\" y=\"-22.8\" font-family=\"Helvetica,sans-Serif\" font-size=\"14.00\" fill=\"#000000\">value = [0, 2, 6]</text>\n<text text-anchor=\"middle\" x=\"57.5\" y=\"-7.8\" font-family=\"Helvetica,sans-Serif\" font-size=\"14.00\" fill=\"#000000\">class = House</text>\n</g>\n<!-- 1&#45;&gt;2 -->\n<g id=\"edge2\" class=\"edge\">\n<title>1&#45;&gt;2</title>\n<path fill=\"none\" stroke=\"#000000\" d=\"M146.6244,-103.9815C134.3345,-94.3313 121.2681,-84.0714 109.0368,-74.4673\"/>\n<polygon fill=\"#000000\" stroke=\"#000000\" points=\"111.1629,-71.6867 101.1362,-68.2637 106.8398,-77.1923 111.1629,-71.6867\"/>\n</g>\n<!-- 3 -->\n<g id=\"node4\" class=\"node\">\n<title>3</title>\n<polygon fill=\"#e58139\" stroke=\"#000000\" points=\"265.5,-68 133.5,-68 133.5,0 265.5,0 265.5,-68\"/>\n<text text-anchor=\"middle\" x=\"199.5\" y=\"-52.8\" font-family=\"Helvetica,sans-Serif\" font-size=\"14.00\" fill=\"#000000\">gini = 0.0</text>\n<text text-anchor=\"middle\" x=\"199.5\" y=\"-37.8\" font-family=\"Helvetica,sans-Serif\" font-size=\"14.00\" fill=\"#000000\">samples = 2</text>\n<text text-anchor=\"middle\" x=\"199.5\" y=\"-22.8\" font-family=\"Helvetica,sans-Serif\" font-size=\"14.00\" fill=\"#000000\">value = [2, 0, 0]</text>\n<text text-anchor=\"middle\" x=\"199.5\" y=\"-7.8\" font-family=\"Helvetica,sans-Serif\" font-size=\"14.00\" fill=\"#000000\">class = Apartment</text>\n</g>\n<!-- 1&#45;&gt;3 -->\n<g id=\"edge3\" class=\"edge\">\n<title>1&#45;&gt;3</title>\n<path fill=\"none\" stroke=\"#000000\" d=\"M199.5,-103.9815C199.5,-95.618 199.5,-86.7965 199.5,-78.3409\"/>\n<polygon fill=\"#000000\" stroke=\"#000000\" points=\"203.0001,-78.2636 199.5,-68.2637 196.0001,-78.2637 203.0001,-78.2636\"/>\n</g>\n<!-- 5 -->\n<g id=\"node6\" class=\"node\">\n<title>5</title>\n<polygon fill=\"#f2c09c\" stroke=\"#000000\" points=\"415.5,-68 283.5,-68 283.5,0 415.5,0 415.5,-68\"/>\n<text text-anchor=\"middle\" x=\"349.5\" y=\"-52.8\" font-family=\"Helvetica,sans-Serif\" font-size=\"14.00\" fill=\"#000000\">gini = 0.531</text>\n<text text-anchor=\"middle\" x=\"349.5\" y=\"-37.8\" font-family=\"Helvetica,sans-Serif\" font-size=\"14.00\" fill=\"#000000\">samples = 8</text>\n<text text-anchor=\"middle\" x=\"349.5\" y=\"-22.8\" font-family=\"Helvetica,sans-Serif\" font-size=\"14.00\" fill=\"#000000\">value = [5, 2, 1]</text>\n<text text-anchor=\"middle\" x=\"349.5\" y=\"-7.8\" font-family=\"Helvetica,sans-Serif\" font-size=\"14.00\" fill=\"#000000\">class = Apartment</text>\n</g>\n<!-- 4&#45;&gt;5 -->\n<g id=\"edge5\" class=\"edge\">\n<title>4&#45;&gt;5</title>\n<path fill=\"none\" stroke=\"#000000\" d=\"M349.5,-103.9815C349.5,-95.618 349.5,-86.7965 349.5,-78.3409\"/>\n<polygon fill=\"#000000\" stroke=\"#000000\" points=\"353.0001,-78.2636 349.5,-68.2637 346.0001,-78.2637 353.0001,-78.2636\"/>\n</g>\n<!-- 6 -->\n<g id=\"node7\" class=\"node\">\n<title>6</title>\n<polygon fill=\"#39e581\" stroke=\"#000000\" points=\"549,-68 434,-68 434,0 549,0 549,-68\"/>\n<text text-anchor=\"middle\" x=\"491.5\" y=\"-52.8\" font-family=\"Helvetica,sans-Serif\" font-size=\"14.00\" fill=\"#000000\">gini = 0.0</text>\n<text text-anchor=\"middle\" x=\"491.5\" y=\"-37.8\" font-family=\"Helvetica,sans-Serif\" font-size=\"14.00\" fill=\"#000000\">samples = 2</text>\n<text text-anchor=\"middle\" x=\"491.5\" y=\"-22.8\" font-family=\"Helvetica,sans-Serif\" font-size=\"14.00\" fill=\"#000000\">value = [0, 2, 0]</text>\n<text text-anchor=\"middle\" x=\"491.5\" y=\"-7.8\" font-family=\"Helvetica,sans-Serif\" font-size=\"14.00\" fill=\"#000000\">class = Condo</text>\n</g>\n<!-- 4&#45;&gt;6 -->\n<g id=\"edge6\" class=\"edge\">\n<title>4&#45;&gt;6</title>\n<path fill=\"none\" stroke=\"#000000\" d=\"M402.3756,-103.9815C414.6655,-94.3313 427.7319,-84.0714 439.9632,-74.4673\"/>\n<polygon fill=\"#000000\" stroke=\"#000000\" points=\"442.1602,-77.1923 447.8638,-68.2637 437.8371,-71.6867 442.1602,-77.1923\"/>\n</g>\n</g>\n</svg>\n"
          },
          "metadata": {},
          "execution_count": 4
        }
      ]
    },
    {
      "cell_type": "code",
      "metadata": {
        "id": "IGLcv-F2ZYEU"
      },
      "source": [],
      "execution_count": null,
      "outputs": []
    }
  ]
}